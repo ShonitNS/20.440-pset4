{
 "cells": [
  {
   "cell_type": "code",
   "execution_count": 1,
   "id": "a7c45512",
   "metadata": {},
   "outputs": [],
   "source": [
    "# Shonit Nair Sharma \n",
    "# 20.440 PSET 4\n",
    "\n",
    "# The following code generates a figure for the 20.440 Project."
   ]
  },
  {
   "cell_type": "code",
   "execution_count": 2,
   "id": "6a4c5f8c",
   "metadata": {},
   "outputs": [],
   "source": [
    "# Imports Bio, numpy, and matplotlib.\n",
    "\n",
    "# Bio was first installed in Terminal via the command \n",
    "#\"conda install biopython\".\n",
    "from Bio import SeqIO\n",
    "\n",
    "# Gives the extract() to get the sequence at a location.\n",
    "from Bio.SeqFeature import FeatureLocation \n",
    "\n",
    "# Useful imports for analysis.\n",
    "import numpy as np\n",
    "import matplotlib.pyplot as plt"
   ]
  },
  {
   "cell_type": "code",
   "execution_count": 3,
   "id": "d4a4d048",
   "metadata": {},
   "outputs": [],
   "source": [
    "# Gets a record of the file with first parse() item \n",
    "# being the largest chromosome.\n",
    "\n",
    "# Imports .gbff file.\n",
    "file = '../Data/E. coli NIssle Genome.gbff'\n",
    "\n",
    "# Parses file and converts output to a to list.\n",
    "record = list(SeqIO.parse(file, 'gb'))[0]"
   ]
  },
  {
   "cell_type": "code",
   "execution_count": 4,
   "id": "5d2e0b68",
   "metadata": {},
   "outputs": [
    {
     "name": "stdout",
     "output_type": "stream",
     "text": [
      "5441200\n",
      "A\n"
     ]
    }
   ],
   "source": [
    "# Sequences the entire record.\n",
    "seq = record.seq\n",
    "\n",
    "# Prints the length of the sequence.\n",
    "print(len(seq))\n",
    "\n",
    "# Prints the first base in the sequence.\n",
    "print(seq[0])"
   ]
  },
  {
   "cell_type": "code",
   "execution_count": 5,
   "id": "babb25c1",
   "metadata": {},
   "outputs": [
    {
     "data": {
      "text/plain": [
       "[SeqFeature(FeatureLocation(ExactPosition(0), ExactPosition(5441200), strand=1), type='source'),\n",
       " SeqFeature(FeatureLocation(ExactPosition(189), ExactPosition(255), strand=1), type='gene'),\n",
       " SeqFeature(FeatureLocation(ExactPosition(189), ExactPosition(255), strand=1), type='CDS'),\n",
       " SeqFeature(FeatureLocation(ExactPosition(190), ExactPosition(310), strand=1), type='misc_feature'),\n",
       " SeqFeature(FeatureLocation(ExactPosition(360), ExactPosition(2823), strand=1), type='gene'),\n",
       " SeqFeature(FeatureLocation(ExactPosition(360), ExactPosition(2823), strand=1), type='CDS'),\n",
       " SeqFeature(FeatureLocation(ExactPosition(2824), ExactPosition(3757), strand=1), type='gene'),\n",
       " SeqFeature(FeatureLocation(ExactPosition(2824), ExactPosition(3757), strand=1), type='CDS'),\n",
       " SeqFeature(FeatureLocation(ExactPosition(3757), ExactPosition(5044), strand=1), type='gene'),\n",
       " SeqFeature(FeatureLocation(ExactPosition(3757), ExactPosition(5044), strand=1), type='CDS')]"
      ]
     },
     "metadata": {},
     "output_type": "display_data"
    }
   ],
   "source": [
    "# Gets a list of all features from the record with the \n",
    "# first feature bing the entire chromosome and source.\n",
    "features = record.features\n",
    "\n",
    "# Displays the first 10 features.\n",
    "display(features[:10])"
   ]
  },
  {
   "cell_type": "code",
   "execution_count": 6,
   "id": "a9a80f25",
   "metadata": {},
   "outputs": [
    {
     "data": {
      "text/plain": [
       "FeatureLocation(ExactPosition(189), ExactPosition(255), strand=1)"
      ]
     },
     "metadata": {},
     "output_type": "display_data"
    }
   ],
   "source": [
    "# Gets location of second feature.\n",
    "\n",
    "# Identifies second feature.\n",
    "feature = features[1]\n",
    "\n",
    "# Identifies location of feature.\n",
    "location = feature.location\n",
    "\n",
    "# Displays location.\n",
    "display(location)"
   ]
  },
  {
   "cell_type": "code",
   "execution_count": 7,
   "id": "78487daa",
   "metadata": {},
   "outputs": [
    {
     "data": {
      "text/plain": [
       "SeqRecord(seq=Seq('ATGAAACGCATTAGCACCACCATTACCACCACCATCACCATTACCACAGGTAAC...TGA'), id='NZ_CP007799.1', name='NZ_CP007799', description='Escherichia coli Nissle 1917 chromosome, complete genome', dbxrefs=[])"
      ]
     },
     "metadata": {},
     "output_type": "display_data"
    }
   ],
   "source": [
    "# Displays extracted sequence at a location.\n",
    "display(location.extract(record))"
   ]
  },
  {
   "cell_type": "code",
   "execution_count": 8,
   "id": "630069c9",
   "metadata": {},
   "outputs": [
    {
     "name": "stdout",
     "output_type": "stream",
     "text": [
      "1346867\n",
      "1342211\n",
      "1372973\n",
      "1379070\n"
     ]
    }
   ],
   "source": [
    "# Counts number of nucleotide bases.\n",
    "\n",
    "# Initializes nucleotide bases.\n",
    "num_A = 0\n",
    "num_T = 0\n",
    "num_G = 0\n",
    "num_C = 0\n",
    "\n",
    "# Loops through each base in entire seuqence.\n",
    "for i in range(len(seq)):\n",
    "    \n",
    "    # Counts A.\n",
    "    if (seq[i] == 'A'):\n",
    "        num_A += 1\n",
    "    \n",
    "    # Counts T.\n",
    "    elif (seq[i] == 'T'):\n",
    "        num_T += 1\n",
    "    \n",
    "    # Counts G.\n",
    "    elif (seq[i] == 'G'):\n",
    "        num_G += 1\n",
    "    \n",
    "    # Counts C.\n",
    "    elif (seq[i] == 'C'):\n",
    "        num_C += 1\n",
    "    \n",
    "# Computes what fraction of the sequence each base comprises.\n",
    "frac_A = num_A/len(seq) * 100\n",
    "frac_T = num_T/len(seq) * 100\n",
    "frac_G = num_G/len(seq) * 100\n",
    "frac_C = num_C/len(seq) * 100\n",
    "\n",
    "# Prints the count of each base.\n",
    "print(num_A)\n",
    "print(num_T)\n",
    "print(num_G)\n",
    "print(num_C)"
   ]
  },
  {
   "cell_type": "code",
   "execution_count": 9,
   "id": "76a2ebf1",
   "metadata": {},
   "outputs": [
    {
     "data": {
      "image/png": "[encoded data removed]",
      "text/plain": [
       "<Figure size 720x360 with 1 Axes>"
      ]
     },
     "metadata": {
      "needs_background": "light"
     },
     "output_type": "display_data"
    }
   ],
   "source": [
    "# Generates a plot.\n",
    "\n",
    "# Creates the dataset to be plotted from the computed fractions.\n",
    "data = {'A':frac_A, 'T':frac_T, 'G':frac_G,'C':frac_C}\n",
    "\n",
    "# Stores names of bases from dataset.\n",
    "bases = list(data.keys())\n",
    "\n",
    "# Stores values of bases from dataset.\n",
    "values = list(data.values())\n",
    "\n",
    "# Creates a figure of a specified size.\n",
    "fig = plt.figure(figsize = (10, 5))\n",
    "\n",
    "# Creates a bar plot.\n",
    "plt.bar(bases, values, color ='maroon', width = 0.4)\n",
    "\n",
    "# Adds figure labels and title.\n",
    "plt.xlabel(\"Nucleotide Base\")\n",
    "plt.ylabel(\"Percentage of Genome (%)\")\n",
    "plt.title(\"Distribution of Nucleotide Bases in E. coli Nissle Genome\")\n",
    "\n",
    "# Saves plot.\n",
    "plt.savefig('../Figures/Distribution of Nucleotide Bases.png')\n",
    "\n",
    "# Displays plot.\n",
    "plt.show()"
   ]
  }
 ],
 "metadata": {
  "kernelspec": {
   "display_name": "Python 3 (ipykernel)",
   "language": "python",
   "name": "python3"
  },
  "language_info": {
   "codemirror_mode": {
    "name": "ipython",
    "version": 3
   },
   "file_extension": ".py",
   "mimetype": "text/x-python",
   "name": "python",
   "nbconvert_exporter": "python",
   "pygments_lexer": "ipython3",
   "version": "3.9.7"
  }
 },
 "nbformat": 4,
 "nbformat_minor": 5
}
